{
 "cells": [
  {
   "cell_type": "code",
   "execution_count": 1,
   "metadata": {},
   "outputs": [],
   "source": [
    "import numpy as np\n",
    "import matplotlib.pyplot as plt\n",
    "from sklearn.gaussian_process import GaussianProcessRegressor"
   ]
  },
  {
   "cell_type": "markdown",
   "metadata": {},
   "source": [
    "# Guide and Ideas for Capstone Project"
   ]
  },
  {
   "cell_type": "markdown",
   "metadata": {},
   "source": [
    "We begin this guide by downloading the data:"
   ]
  },
  {
   "cell_type": "code",
   "execution_count": 2,
   "metadata": {},
   "outputs": [],
   "source": [
    "X = np.load(r'C:\\Users\\cjorq\\Downloads\\initial_data/function_7/initial_inputs.npy')\n",
    "Y = np.load(r'C:\\Users\\cjorq\\Downloads\\initial_data/function_7/initial_outputs.npy')"
   ]
  },
  {
   "cell_type": "code",
   "execution_count": 3,
   "metadata": {},
   "outputs": [
    {
     "data": {
      "text/plain": [
       "array([[0.27262382, 0.32449536, 0.89710881, 0.83295115, 0.15406269,\n",
       "        0.79586362],\n",
       "       [0.54300258, 0.9246939 , 0.34156746, 0.64648585, 0.71844033,\n",
       "        0.34313266],\n",
       "       [0.09083225, 0.66152938, 0.06593091, 0.25857701, 0.96345285,\n",
       "        0.6402654 ],\n",
       "       [0.11886697, 0.61505494, 0.90581639, 0.8553003 , 0.41363143,\n",
       "        0.58523563],\n",
       "       [0.63021764, 0.8380969 , 0.68001305, 0.73189509, 0.52673671,\n",
       "        0.34842921],\n",
       "       [0.76491917, 0.25588292, 0.60908422, 0.21807904, 0.32294277,\n",
       "        0.09579366],\n",
       "       [0.05789554, 0.49167222, 0.24742222, 0.21811844, 0.42042833,\n",
       "        0.73096984],\n",
       "       [0.19525188, 0.07922665, 0.55458046, 0.17056682, 0.01494418,\n",
       "        0.10703171],\n",
       "       [0.64230298, 0.83687455, 0.02179269, 0.10148801, 0.68307083,\n",
       "        0.6924164 ],\n",
       "       [0.78994255, 0.19554501, 0.57562333, 0.07365919, 0.25904917,\n",
       "        0.05109986],\n",
       "       [0.52849733, 0.45742436, 0.36009569, 0.36204551, 0.81689098,\n",
       "        0.63747637],\n",
       "       [0.72261522, 0.01181284, 0.06364591, 0.16517311, 0.07924415,\n",
       "        0.35995166],\n",
       "       [0.07566492, 0.33450212, 0.13273274, 0.60831236, 0.91838592,\n",
       "        0.82233079],\n",
       "       [0.94245084, 0.37743962, 0.48612233, 0.22879108, 0.08263175,\n",
       "        0.71195755],\n",
       "       [0.14864702, 0.03394336, 0.72880565, 0.31606646, 0.02176938,\n",
       "        0.51691776],\n",
       "       [0.81711239, 0.54816823, 0.10334758, 0.12436955, 0.72823482,\n",
       "        0.44967361],\n",
       "       [0.41762629, 0.06409998, 0.24566877, 0.5590408 , 0.19153138,\n",
       "        0.25464092],\n",
       "       [0.72628566, 0.46489581, 0.92457051, 0.8072454 , 0.6354384 ,\n",
       "        0.14341787],\n",
       "       [0.31981043, 0.52009759, 0.29067775, 0.87670668, 0.49503469,\n",
       "        0.6190825 ],\n",
       "       [0.87987128, 0.39796199, 0.00363456, 0.95699064, 0.26451373,\n",
       "        0.11486924],\n",
       "       [0.54124078, 0.63140314, 0.03190205, 0.44998156, 0.79865282,\n",
       "        0.63370429],\n",
       "       [0.22634792, 0.11502581, 0.82474966, 0.94538372, 0.90531153,\n",
       "        0.95101392],\n",
       "       [0.68685257, 0.04101721, 0.00757301, 0.285009  , 0.69156848,\n",
       "        0.6555429 ],\n",
       "       [0.17597754, 0.6244165 , 0.29554198, 0.46955276, 0.09776977,\n",
       "        0.72814108],\n",
       "       [0.88164674, 0.20445019, 0.41447436, 0.42038468, 0.26491501,\n",
       "        0.73066019],\n",
       "       [0.06661051, 0.52804507, 0.8160952 , 0.96101714, 0.08650933,\n",
       "        0.77778822],\n",
       "       [0.93246638, 0.48881189, 0.25860774, 0.95624344, 0.19042781,\n",
       "        0.51985176],\n",
       "       [0.84686697, 0.14242917, 0.06066859, 0.75629213, 0.5523983 ,\n",
       "        0.08130609],\n",
       "       [0.80628208, 0.32412237, 0.72607601, 0.14871213, 0.7193764 ,\n",
       "        0.36288398],\n",
       "       [0.47682313, 0.34094195, 0.01433523, 0.88013956, 0.9986547 ,\n",
       "        0.07966402]])"
      ]
     },
     "execution_count": 3,
     "metadata": {},
     "output_type": "execute_result"
    }
   ],
   "source": [
    "X"
   ]
  },
  {
   "cell_type": "code",
   "execution_count": 4,
   "metadata": {},
   "outputs": [
    {
     "data": {
      "text/plain": [
       "array([0.6044327 , 0.56275307, 0.00750324, 0.0614243 , 0.2730468 ,\n",
       "       0.08374657, 1.3649683 , 0.09264495, 0.0178696 , 0.03356494,\n",
       "       0.0735163 , 0.2063097 , 0.00882563, 0.26840032, 0.61152553,\n",
       "       0.01479818, 0.27489251, 0.06676325, 0.04211835, 0.00270147,\n",
       "       0.01820907, 0.00701603, 0.10050661, 0.47539552, 0.67514163,\n",
       "       0.51645722, 0.00377748, 0.00313433, 0.02134252, 0.09541116])"
      ]
     },
     "execution_count": 4,
     "metadata": {},
     "output_type": "execute_result"
    }
   ],
   "source": [
    "Y"
   ]
  },
  {
   "cell_type": "markdown",
   "metadata": {},
   "source": [
    "## Random Search"
   ]
  },
  {
   "cell_type": "markdown",
   "metadata": {},
   "source": [
    "The simplest solution would be a simple random search, that is, we can randomly choose our next query point:"
   ]
  },
  {
   "cell_type": "code",
   "execution_count": 3,
   "metadata": {},
   "outputs": [
    {
     "name": "stdout",
     "output_type": "stream",
     "text": [
      "0.621590-0.232831-0.880209-0.571586-0.391064-0.871644\n"
     ]
    }
   ],
   "source": [
    "next_query = np.random.uniform(size = 6)\n",
    "formatted_query = '-'.join([f'{x:.6f}' for x in next_query])\n",
    "print(formatted_query)"
   ]
  },
  {
   "cell_type": "code",
   "execution_count": 19,
   "metadata": {},
   "outputs": [
    {
     "name": "stdout",
     "output_type": "stream",
     "text": [
      "Next query Random:  [0.6348418355422215, 0.6632189725820336]\n"
     ]
    }
   ],
   "source": [
    "# Random search around an area restricted around $x$ = [0.6262626262626263, 0.6767676767676768]\n",
    "next_query_x1 = np.random.normal(0.6262626262626263, scale = 0.01)\n",
    "next_query_x2 = np.random.normal(0.6767676767676768, scale = 0.01)\n",
    "print('Next query Random: ', [next_query_x1, next_query_x2])"
   ]
  },
  {
   "cell_type": "code",
   "execution_count": 20,
   "metadata": {},
   "outputs": [
    {
     "data": {
      "text/plain": [
       "GaussianProcessRegressor()"
      ]
     },
     "execution_count": 20,
     "metadata": {},
     "output_type": "execute_result"
    }
   ],
   "source": [
    "# Using a restricted UCB\n",
    "gpr = GaussianProcessRegressor()\n",
    "gpr.fit(X, Y)"
   ]
  },
  {
   "cell_type": "code",
   "execution_count": 21,
   "metadata": {},
   "outputs": [],
   "source": [
    "# to optimize the acquisition function, we will simply use gridsearch over a space of 10.000 gridpoints\n",
    "x1 = np.linspace(0.6, 0.65, 100)\n",
    "x2 = np.linspace(0.65, 0.69, 100)"
   ]
  },
  {
   "cell_type": "code",
   "execution_count": 22,
   "metadata": {},
   "outputs": [],
   "source": [
    "X_grid = []\n",
    "for i in range(len(x1)):\n",
    "    for j in range(len(x2)):\n",
    "        X_grid.append([x1[i], x2[j]])"
   ]
  },
  {
   "cell_type": "code",
   "execution_count": 23,
   "metadata": {},
   "outputs": [],
   "source": [
    "X_grid = np.array(X_grid)\n",
    "mean, std = gpr.predict(X_grid, return_std = True)\n",
    "ucb = mean + 1.96 * std"
   ]
  },
  {
   "cell_type": "code",
   "execution_count": null,
   "metadata": {},
   "outputs": [],
   "source": [
    "idx_max = np.argmax(ucb)\n",
    "next_query = X_grid[idx_max]\n",
    "print('Next query UCB: ', next_query)"
   ]
  },
  {
   "cell_type": "code",
   "execution_count": null,
   "metadata": {},
   "outputs": [],
   "source": []
  }
 ],
 "metadata": {
  "interpreter": {
   "hash": "d37abda7630e259e5026a5079657683a09f6e3d11473720762ebe7250c494840"
  },
  "kernelspec": {
   "display_name": "Python 3 (ipykernel)",
   "language": "python",
   "name": "python3"
  },
  "language_info": {
   "codemirror_mode": {
    "name": "ipython",
    "version": 3
   },
   "file_extension": ".py",
   "mimetype": "text/x-python",
   "name": "python",
   "nbconvert_exporter": "python",
   "pygments_lexer": "ipython3",
   "version": "3.9.7"
  }
 },
 "nbformat": 4,
 "nbformat_minor": 2
}
